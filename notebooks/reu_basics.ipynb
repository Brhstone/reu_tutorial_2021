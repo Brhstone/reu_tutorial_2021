{
 "cells": [
  {
   "cell_type": "markdown",
   "metadata": {},
   "source": [
    "# REU - Python Basics"
   ]
  },
  {
   "cell_type": "markdown",
   "metadata": {},
   "source": [
    "## What's Python?\n",
    "\n",
    "### Background\n",
    "* Open source programming language -- free! Often thought of as a \"scripting\" language.\n",
    "* Balances performance with development time\n",
    "* Extensive third-party support\n",
    "\n",
    "### How to get it?\n",
    "* Often already installed on most systems, *but* the included distribution should not be used in most cases\n",
    "* Official site: https://www.python.org/\n",
    "* Recommended site: https://www.anaconda.com/products/individual\n",
    "\n",
    "### How to use it?\n",
    "* Console (python or ipython)\n",
    "* Jupyter (notebook or lab)\n",
    "* Integrated Development Environment (IDE)\n",
    "    * https://www.spyder-ide.org/\n",
    "    * https://www.jetbrains.com/pycharm/\n",
    "\n",
    "\n",
    "## Additional resources / references\n",
    "* Learning Python (O'Reilly)\n"
   ]
  },
  {
   "cell_type": "markdown",
   "metadata": {},
   "source": [
    "## Python programming basics\n",
    "\n",
    "### Types\n",
    "* Numbers\n",
    "* Strings\n",
    "* Boolean\n",
    "* Lists\n",
    "* Dictionaries\n",
    "* Tuples\n",
    "* Sets\n"
   ]
  },
  {
   "cell_type": "code",
   "execution_count": 1,
   "metadata": {},
   "outputs": [],
   "source": [
    "# Comment <-- Python ignores everything after a \"#\" (unless in a string)\n",
    "\n",
    "# Exploring Types\n"
   ]
  },
  {
   "cell_type": "code",
   "execution_count": 2,
   "metadata": {},
   "outputs": [],
   "source": [
    "# Dynamic Typing"
   ]
  },
  {
   "cell_type": "markdown",
   "metadata": {},
   "source": [
    "### Assignment\n",
    "* `output = 1 + 2`\n",
    "* `output = output + 3`\n",
    "\n",
    "### Expressions\n",
    "* `spam(eggs, ham)` Function call\n",
    "* `spam.ham(eggs)` Method call\n",
    "* `spam` Printing variable in the interactive interpreter\n",
    "* `print(spam)` Printing to standard output\n",
    "* `yield x * 2` Yielding expression statement"
   ]
  },
  {
   "cell_type": "code",
   "execution_count": 3,
   "metadata": {},
   "outputs": [],
   "source": [
    "# If statement and indentation\n"
   ]
  },
  {
   "cell_type": "code",
   "execution_count": 4,
   "metadata": {},
   "outputs": [],
   "source": [
    "# Loop statements\n"
   ]
  },
  {
   "cell_type": "code",
   "execution_count": 5,
   "metadata": {},
   "outputs": [],
   "source": [
    "# Iteration\n"
   ]
  },
  {
   "cell_type": "code",
   "execution_count": 6,
   "metadata": {},
   "outputs": [],
   "source": [
    "# Functions\n",
    "\n",
    "\n",
    "# Scopes\n",
    "\n",
    "\n",
    "# Arguments and keywords\n",
    "\n",
    "\n",
    "# Returns\n",
    "\n"
   ]
  },
  {
   "cell_type": "code",
   "execution_count": 7,
   "metadata": {},
   "outputs": [],
   "source": [
    "# Generators and comprehension\n"
   ]
  },
  {
   "cell_type": "code",
   "execution_count": 8,
   "metadata": {},
   "outputs": [],
   "source": [
    "# Classes and \"dunders\"\n"
   ]
  },
  {
   "cell_type": "code",
   "execution_count": 9,
   "metadata": {},
   "outputs": [],
   "source": [
    "# Exceptions\n"
   ]
  },
  {
   "cell_type": "markdown",
   "metadata": {},
   "source": [
    "## Standard Library\n",
    "* Built-in functions: https://docs.python.org/3/library/functions.html\n",
    "* Libraries: https://docs.python.org/3/library/index.html\n",
    "* Data model: https://docs.python.org/3/reference/datamodel.html"
   ]
  },
  {
   "cell_type": "code",
   "execution_count": 10,
   "metadata": {},
   "outputs": [],
   "source": [
    "# Built-in functions\n"
   ]
  },
  {
   "cell_type": "code",
   "execution_count": 11,
   "metadata": {},
   "outputs": [],
   "source": [
    "# Libraries & imports\n"
   ]
  },
  {
   "cell_type": "code",
   "execution_count": null,
   "metadata": {},
   "outputs": [],
   "source": []
  }
 ],
 "metadata": {
  "kernelspec": {
   "display_name": "Python 3",
   "language": "python",
   "name": "python3"
  },
  "language_info": {
   "codemirror_mode": {
    "name": "ipython",
    "version": 3
   },
   "file_extension": ".py",
   "mimetype": "text/x-python",
   "name": "python",
   "nbconvert_exporter": "python",
   "pygments_lexer": "ipython3",
   "version": "3.8.5"
  }
 },
 "nbformat": 4,
 "nbformat_minor": 4
}
