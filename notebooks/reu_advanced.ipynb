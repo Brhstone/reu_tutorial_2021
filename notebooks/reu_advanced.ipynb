{
 "cells": [
  {
   "cell_type": "markdown",
   "metadata": {},
   "source": [
    "# REU - Advanced"
   ]
  },
  {
   "cell_type": "markdown",
   "metadata": {},
   "source": [
    "## Project structure\n",
    "```reu_tutorial_2021\n",
    "├── README.md\n",
    "├── environment.yml\n",
    "├── notebooks\n",
    "│   ├── reu_basics.ipynb\n",
    "│   ├── reu_data_science.ipynb\n",
    "│   └── reu_development.ipynb\n",
    "├── reu_tutorial\n",
    "│   └── __init__.py\n",
    "├── scripts\n",
    "└── tests\n",
    "```\n",
    "\n",
    "## File types\n",
    "* Packages - Directory containing a `__init__.py`\n",
    "* Modules - Text file with extension `.py`, located in a package\n",
    "* Scripts - Any `.py` file\n",
    "    * `if __name__ == '__main__':`\n",
    "\n",
    "\n",
    "## Install location\n",
    "* Site-packages - Managed by build / install tools\n",
    "* Python path - Environment variable with the path to Packages (`PYTHONPATH`)\n",
    "\n",
    "\n",
    "## Example script"
   ]
  },
  {
   "cell_type": "code",
   "execution_count": 1,
   "metadata": {},
   "outputs": [
    {
     "name": "stdout",
     "output_type": "stream",
     "text": [
      "1.1574074074074074e-11\n",
      "0.5\n"
     ]
    }
   ],
   "source": [
    "#!/usr/bin/env python3\n",
    "\"\"\"High-level documentation\n",
    "\"\"\"\n",
    "import argparse\n",
    "import logging\n",
    "from pathlib import Path\n",
    "\n",
    "import numpy as np\n",
    "\n",
    "#import my_pkg\n",
    "\n",
    "\n",
    "logger = logging.getLogger(__name__)\n",
    "\n",
    "MICROSECONDS_PER_DAY = 8.64e10\n",
    "\n",
    "\n",
    "def microseconds_to_days(n_usec):\n",
    "    \"\"\"Convert microseconds to days.\n",
    "    \n",
    "    Parameters\n",
    "    ----------\n",
    "    n_usec : int or float\n",
    "        Number of microseconds.\n",
    "    \n",
    "    Returns\n",
    "    -------\n",
    "    float\n",
    "        Fractional days (ignores leapseconds).\n",
    "    \"\"\"\n",
    "    return n_usec / MICROSECONDS_PER_DAY\n",
    "\n",
    "\n",
    "if __name__ == '__main__':\n",
    "    print(microseconds_to_days(1))\n",
    "    print(microseconds_to_days(12 * 60 * 60 * 1000000))\n"
   ]
  },
  {
   "cell_type": "markdown",
   "metadata": {},
   "source": [
    "## Best practices\n",
    "### Code style\n",
    "* PEP 8 - https://www.python.org/dev/peps/pep-0008/\n",
    "* Numpy docstring - https://numpydoc.readthedocs.io/en/latest/format.html\n",
    "* General overview - https://gist.github.com/sloria/7001839\n",
    "\n",
    "### Development\n",
    "* IDE for code development and testing\n",
    "* Jupyter for data analysis, exploration, and visulization\n",
    "* Console for scripted execution"
   ]
  },
  {
   "cell_type": "code",
   "execution_count": null,
   "metadata": {},
   "outputs": [],
   "source": []
  },
  {
   "cell_type": "markdown",
   "metadata": {},
   "source": [
    "## What to avoid\n",
    "* Line continuation\n",
    "* globals\n",
    "* `*` imports"
   ]
  },
  {
   "cell_type": "code",
   "execution_count": null,
   "metadata": {},
   "outputs": [],
   "source": []
  },
  {
   "cell_type": "markdown",
   "metadata": {},
   "source": [
    "## File I/O"
   ]
  },
  {
   "cell_type": "code",
   "execution_count": 2,
   "metadata": {},
   "outputs": [],
   "source": [
    "from pathlib import Path"
   ]
  },
  {
   "cell_type": "code",
   "execution_count": null,
   "metadata": {},
   "outputs": [],
   "source": []
  }
 ],
 "metadata": {
  "kernelspec": {
   "display_name": "Python 3",
   "language": "python",
   "name": "python3"
  },
  "language_info": {
   "codemirror_mode": {
    "name": "ipython",
    "version": 3
   },
   "file_extension": ".py",
   "mimetype": "text/x-python",
   "name": "python",
   "nbconvert_exporter": "python",
   "pygments_lexer": "ipython3",
   "version": "3.8.5"
  }
 },
 "nbformat": 4,
 "nbformat_minor": 4
}
